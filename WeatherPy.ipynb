{
 "cells": [
  {
   "cell_type": "markdown",
   "metadata": {},
   "source": [
    "# WeatherPy\n",
    "\n",
    "---\n",
    "\n",
    "## Starter Code to Generate Random Geographic Coordinates and a List of Cities"
   ]
  },
  {
   "cell_type": "code",
   "execution_count": 59,
   "metadata": {
    "scrolled": true
   },
   "outputs": [],
   "source": [
    "# Dependencies and Setup\n",
    "import matplotlib.pyplot as plt\n",
    "import pandas as pd\n",
    "import numpy as np\n",
    "import requests\n",
    "import time\n",
    "from scipy.stats import linregress\n",
    "\n",
    "# Import API key\n",
    "from api_keys import weather_api_key\n",
    "\n",
    "# Incorporated citipy to determine city based on latitude and longitude\n",
    "from citipy import citipy\n",
    "\n",
    "# Output File (CSV)\n",
    "output_data_file = \"output_data/cities.csv\"\n",
    "\n",
    "# Range of latitudes and longitudes\n",
    "lat_range = (-90, 90)\n",
    "lng_range = (-180, 180)"
   ]
  },
  {
   "cell_type": "markdown",
   "metadata": {},
   "source": [
    "### Generate the Cities List by Using the `citipy` Library"
   ]
  },
  {
   "cell_type": "code",
   "execution_count": 60,
   "metadata": {},
   "outputs": [
    {
     "name": "stdout",
     "output_type": "stream",
     "text": [
      "Number of cities in the list: 557\n"
     ]
    }
   ],
   "source": [
    "# List for holding lat_lngs and cities\n",
    "lat_lngs = []\n",
    "cities = []\n",
    "\n",
    "# Create a set of random lat and lng combinations\n",
    "lats = np.random.uniform(lat_range[0], lat_range[1], size=1500)\n",
    "lngs = np.random.uniform(lng_range[0], lng_range[1], size=1500)\n",
    "lat_lngs = zip(lats, lngs)\n",
    "\n",
    "# Identify nearest city for each lat, lng combination\n",
    "for lat_lng in lat_lngs:\n",
    "    city = citipy.nearest_city(lat_lng[0], lat_lng[1]).city_name\n",
    "    \n",
    "    # If the city is unique, then add it to a our cities list\n",
    "    if city not in cities:\n",
    "        cities.append(city)\n",
    "\n",
    "# Print the city count to confirm sufficient count\n",
    "print(f\"Number of cities in the list: {len(cities)}\")"
   ]
  },
  {
   "cell_type": "markdown",
   "metadata": {},
   "source": [
    "---"
   ]
  },
  {
   "cell_type": "markdown",
   "metadata": {},
   "source": [
    "## Requirement 1: Create Plots to Showcase the Relationship Between Weather Variables and Latitude\n",
    "\n",
    "### Use the OpenWeatherMap API to retrieve weather data from the cities list generated in the started code"
   ]
  },
  {
   "cell_type": "code",
   "execution_count": 61,
   "metadata": {},
   "outputs": [
    {
     "name": "stdout",
     "output_type": "stream",
     "text": [
      "Processing Record 1 | Los Angeles\n",
      "-----------------------\n",
      "Processing Record 2 | New York\n",
      "-----------------------\n",
      "Processing Record 3 | Chicago\n",
      "-----------------------\n",
      "          City      Lat       Lng  Max Temp  Humidity  Cloudiness  Windspeed  \\\n",
      "0  Los Angeles  34.0522 -118.2437     67.21        48           0      12.66   \n",
      "1     New York  40.7143  -74.0060     55.40        56           0       8.05   \n",
      "2      Chicago  41.8500  -87.6500     63.12        45          75      10.36   \n",
      "\n",
      "  Country        Date  \n",
      "0      US  1741654905  \n",
      "1      US  1741655085  \n",
      "2      US  1741654965  \n"
     ]
    }
   ],
   "source": [
    "import requests\n",
    "\n",
    "# Place your API key here\n",
    "weather_api_key = \"f9c5bc499e2cd8869a36d17a6d831a3b\"  # Replace with your actual API key\n",
    "\n",
    "\n",
    "url = f\"http://api.openweathermap.org/data/2.5/weather?units=Imperial&appid={weather_api_key}\"\n",
    "city_data = []  # Initialize empty list\n",
    "\n",
    "# List of cities to query\n",
    "cities = [\"Los Angeles\", \"New York\", \"Chicago\"]  # Example cities\n",
    "\n",
    "# Loop through cities\n",
    "for index, city in enumerate(cities):\n",
    "    city_url = url + \"&q=\" + city\n",
    "    print(f\"Processing Record {index + 1} | {city}\")\n",
    "    \n",
    "    try:\n",
    "        # Make the API request\n",
    "        city_weather = requests.get(city_url).json()\n",
    "        \n",
    "        # Check if the response is valid\n",
    "        if city_weather.get(\"cod\") == 200:\n",
    "            # Extract necessary data\n",
    "            city_lat = city_weather[\"coord\"][\"lat\"]\n",
    "            city_lng = city_weather[\"coord\"][\"lon\"]\n",
    "            city_max_temp = city_weather[\"main\"][\"temp_max\"]\n",
    "            city_humidity = city_weather[\"main\"][\"humidity\"]\n",
    "            city_clouds = city_weather[\"clouds\"][\"all\"]\n",
    "            city_wind = city_weather[\"wind\"][\"speed\"]\n",
    "            city_country = city_weather[\"sys\"][\"country\"]\n",
    "            city_date = city_weather[\"dt\"]\n",
    "            \n",
    "            # Append data to city_data\n",
    "            city_data.append({\n",
    "                \"City\": city,\n",
    "                \"Lat\": city_lat,\n",
    "                \"Lng\": city_lng,\n",
    "                \"Max Temp\": city_max_temp,\n",
    "                \"Humidity\": city_humidity,\n",
    "                \"Cloudiness\": city_clouds,\n",
    "                \"Windspeed\": city_wind,\n",
    "                \"Country\": city_country,\n",
    "                \"Date\": city_date\n",
    "            })\n",
    "        else:\n",
    "            print(f\"Error with city data for {city}: {city_weather.get('message')}\")\n",
    "    \n",
    "    except Exception as e:\n",
    "        print(f\"Error fetching data for {city}: {e}\")\n",
    "    \n",
    "    print(\"-----------------------\")\n",
    "\n",
    "# Check if city_data has content before converting to DataFrame\n",
    "if city_data:\n",
    "    city_data_df = pd.DataFrame(city_data)\n",
    "    print(city_data_df.head())  # Display first few rows\n",
    "else:\n",
    "    print(\"No city data found.\")\n"
   ]
  },
  {
   "cell_type": "code",
   "execution_count": 62,
   "metadata": {},
   "outputs": [
    {
     "data": {
      "text/plain": [
       "City          3\n",
       "Lat           3\n",
       "Lng           3\n",
       "Max Temp      3\n",
       "Humidity      3\n",
       "Cloudiness    3\n",
       "Windspeed     3\n",
       "Country       3\n",
       "Date          3\n",
       "dtype: int64"
      ]
     },
     "execution_count": 62,
     "metadata": {},
     "output_type": "execute_result"
    }
   ],
   "source": [
    "\n",
    "# Convert array of JSON into Pandas\n",
    "city_data_df = pd.DataFrame(city_data)\n",
    "\n",
    "\n",
    "# Extract relevant fields from the data frame\n",
    "Lats = city_data_df[\"Lat\"]\n",
    "max_temps = city_data_df[\"Max Temp\"]\n",
    "humidity = city_data_df[\"Humidity\"]\n",
    "cloudiness = city_data_df[\"Cloudiness\"]\n",
    "wind_speed = city_data_df[\"Windspeed\"]\n",
    "\n",
    "city_data_df.to_csv(output_data_file, index_label=\"City_ID\")\n",
    "\n",
    "city_data_df.count()"
   ]
  },
  {
   "cell_type": "code",
   "execution_count": 63,
   "metadata": {},
   "outputs": [
    {
     "data": {
      "text/html": [
       "<div>\n",
       "<style scoped>\n",
       "    .dataframe tbody tr th:only-of-type {\n",
       "        vertical-align: middle;\n",
       "    }\n",
       "\n",
       "    .dataframe tbody tr th {\n",
       "        vertical-align: top;\n",
       "    }\n",
       "\n",
       "    .dataframe thead th {\n",
       "        text-align: right;\n",
       "    }\n",
       "</style>\n",
       "<table border=\"1\" class=\"dataframe\">\n",
       "  <thead>\n",
       "    <tr style=\"text-align: right;\">\n",
       "      <th></th>\n",
       "      <th>City</th>\n",
       "      <th>Lat</th>\n",
       "      <th>Lng</th>\n",
       "      <th>Max Temp</th>\n",
       "      <th>Humidity</th>\n",
       "      <th>Cloudiness</th>\n",
       "      <th>Windspeed</th>\n",
       "      <th>Country</th>\n",
       "      <th>Date</th>\n",
       "    </tr>\n",
       "  </thead>\n",
       "  <tbody>\n",
       "    <tr>\n",
       "      <th>0</th>\n",
       "      <td>Los Angeles</td>\n",
       "      <td>34.0522</td>\n",
       "      <td>-118.2437</td>\n",
       "      <td>67.21</td>\n",
       "      <td>48</td>\n",
       "      <td>0</td>\n",
       "      <td>12.66</td>\n",
       "      <td>US</td>\n",
       "      <td>1741654905</td>\n",
       "    </tr>\n",
       "    <tr>\n",
       "      <th>1</th>\n",
       "      <td>New York</td>\n",
       "      <td>40.7143</td>\n",
       "      <td>-74.0060</td>\n",
       "      <td>55.40</td>\n",
       "      <td>56</td>\n",
       "      <td>0</td>\n",
       "      <td>8.05</td>\n",
       "      <td>US</td>\n",
       "      <td>1741655085</td>\n",
       "    </tr>\n",
       "    <tr>\n",
       "      <th>2</th>\n",
       "      <td>Chicago</td>\n",
       "      <td>41.8500</td>\n",
       "      <td>-87.6500</td>\n",
       "      <td>63.12</td>\n",
       "      <td>45</td>\n",
       "      <td>75</td>\n",
       "      <td>10.36</td>\n",
       "      <td>US</td>\n",
       "      <td>1741654965</td>\n",
       "    </tr>\n",
       "  </tbody>\n",
       "</table>\n",
       "</div>"
      ],
      "text/plain": [
       "          City      Lat       Lng  Max Temp  Humidity  Cloudiness  Windspeed  \\\n",
       "0  Los Angeles  34.0522 -118.2437     67.21        48           0      12.66   \n",
       "1     New York  40.7143  -74.0060     55.40        56           0       8.05   \n",
       "2      Chicago  41.8500  -87.6500     63.12        45          75      10.36   \n",
       "\n",
       "  Country        Date  \n",
       "0      US  1741654905  \n",
       "1      US  1741655085  \n",
       "2      US  1741654965  "
      ]
     },
     "execution_count": 63,
     "metadata": {},
     "output_type": "execute_result"
    }
   ],
   "source": [
    "# Display sample data\n",
    "city_data_df.head()"
   ]
  },
  {
   "cell_type": "code",
   "execution_count": 64,
   "metadata": {},
   "outputs": [
    {
     "name": "stdout",
     "output_type": "stream",
     "text": [
      "CSV file has been saved to output_data/cities.csv.\n"
     ]
    }
   ],
   "source": [
    "import os\n",
    "\n",
    "output_dir = \"output_data\"\n",
    "if not os.path.exists(output_dir):\n",
    "    os.makedirs(output_dir)\n",
    "\n",
    "# Check if the DataFrame has data\n",
    "if not city_data_df.empty:\n",
    "    output_file = os.path.join(output_dir, \"cities.csv\")\n",
    "    city_data_df.to_csv(output_file, index_label=\"City_ID\")\n",
    "    print(f\"CSV file has been saved to {output_file}.\")\n",
    "else:\n",
    "    print(\"No data to save.\")\n"
   ]
  },
  {
   "cell_type": "code",
   "execution_count": 65,
   "metadata": {},
   "outputs": [],
   "source": [
    "# Export the City_Data into a csv\n",
    "city_data_df.to_csv(\"output_data/cities.csv\", mode='w', index_label=\"City_ID\")\n"
   ]
  },
  {
   "cell_type": "code",
   "execution_count": 66,
   "metadata": {},
   "outputs": [
    {
     "data": {
      "text/html": [
       "<div>\n",
       "<style scoped>\n",
       "    .dataframe tbody tr th:only-of-type {\n",
       "        vertical-align: middle;\n",
       "    }\n",
       "\n",
       "    .dataframe tbody tr th {\n",
       "        vertical-align: top;\n",
       "    }\n",
       "\n",
       "    .dataframe thead th {\n",
       "        text-align: right;\n",
       "    }\n",
       "</style>\n",
       "<table border=\"1\" class=\"dataframe\">\n",
       "  <thead>\n",
       "    <tr style=\"text-align: right;\">\n",
       "      <th></th>\n",
       "      <th>City</th>\n",
       "      <th>Lat</th>\n",
       "      <th>Lng</th>\n",
       "      <th>Max Temp</th>\n",
       "      <th>Humidity</th>\n",
       "      <th>Cloudiness</th>\n",
       "      <th>Windspeed</th>\n",
       "      <th>Country</th>\n",
       "      <th>Date</th>\n",
       "    </tr>\n",
       "    <tr>\n",
       "      <th>City_ID</th>\n",
       "      <th></th>\n",
       "      <th></th>\n",
       "      <th></th>\n",
       "      <th></th>\n",
       "      <th></th>\n",
       "      <th></th>\n",
       "      <th></th>\n",
       "      <th></th>\n",
       "      <th></th>\n",
       "    </tr>\n",
       "  </thead>\n",
       "  <tbody>\n",
       "    <tr>\n",
       "      <th>0</th>\n",
       "      <td>Los Angeles</td>\n",
       "      <td>34.0522</td>\n",
       "      <td>-118.2437</td>\n",
       "      <td>67.21</td>\n",
       "      <td>48</td>\n",
       "      <td>0</td>\n",
       "      <td>12.66</td>\n",
       "      <td>US</td>\n",
       "      <td>1741654905</td>\n",
       "    </tr>\n",
       "    <tr>\n",
       "      <th>1</th>\n",
       "      <td>New York</td>\n",
       "      <td>40.7143</td>\n",
       "      <td>-74.0060</td>\n",
       "      <td>55.40</td>\n",
       "      <td>56</td>\n",
       "      <td>0</td>\n",
       "      <td>8.05</td>\n",
       "      <td>US</td>\n",
       "      <td>1741655085</td>\n",
       "    </tr>\n",
       "    <tr>\n",
       "      <th>2</th>\n",
       "      <td>Chicago</td>\n",
       "      <td>41.8500</td>\n",
       "      <td>-87.6500</td>\n",
       "      <td>63.12</td>\n",
       "      <td>45</td>\n",
       "      <td>75</td>\n",
       "      <td>10.36</td>\n",
       "      <td>US</td>\n",
       "      <td>1741654965</td>\n",
       "    </tr>\n",
       "  </tbody>\n",
       "</table>\n",
       "</div>"
      ],
      "text/plain": [
       "                City      Lat       Lng  Max Temp  Humidity  Cloudiness  \\\n",
       "City_ID                                                                   \n",
       "0        Los Angeles  34.0522 -118.2437     67.21        48           0   \n",
       "1           New York  40.7143  -74.0060     55.40        56           0   \n",
       "2            Chicago  41.8500  -87.6500     63.12        45          75   \n",
       "\n",
       "         Windspeed Country        Date  \n",
       "City_ID                                 \n",
       "0            12.66      US  1741654905  \n",
       "1             8.05      US  1741655085  \n",
       "2            10.36      US  1741654965  "
      ]
     },
     "execution_count": 66,
     "metadata": {},
     "output_type": "execute_result"
    }
   ],
   "source": [
    "# Read saved data\n",
    "city_data_df = pd.read_csv(\"output_data/cities.csv\", index_col=\"City_ID\")\n",
    "\n",
    "# Display sample data\n",
    "city_data_df.head()"
   ]
  },
  {
   "cell_type": "markdown",
   "metadata": {},
   "source": [
    "### Create the Scatter Plots Requested\n",
    "\n",
    "#### Latitude Vs. Temperature"
   ]
  },
  {
   "cell_type": "code",
   "execution_count": 69,
   "metadata": {
    "tags": []
   },
   "outputs": [
    {
     "name": "stdout",
     "output_type": "stream",
     "text": [
      "1500 3\n",
      "Error: The lengths of lats and max_temps do not match.\n"
     ]
    }
   ],
   "source": [
    "# Check if the arrays have the same length\n",
    "print(len(lats), len(max_temps))\n",
    "\n",
    "# Only plot if the lengths match\n",
    "if len(lats) == len(max_temps):\n",
    "    plt.scatter(lats, max_temps, edgecolor=\"black\", linewidth=1, marker=\"o\",\n",
    "                alpha=0.8, label=\"Cities\")\n",
    "    \n",
    "    # Incorporate the other graph properties\n",
    "    plt.title(\"City Latitude Vs. Max Temperature(%s)\" % time.strftime(\"%x\"))\n",
    "    plt.ylabel(\"Max Temperature (F)\")\n",
    "    plt.xlabel(\"Latitude\")\n",
    "    plt.grid(True)\n",
    "    \n",
    "    # Save figure\n",
    "    plt.savefig(\"output_data/Fig1.png\")\n",
    "    \n",
    "    # Show plot\n",
    "    plt.show()\n",
    "else:\n",
    "    print(\"Error: The lengths of lats and max_temps do not match.\")\n"
   ]
  },
  {
   "cell_type": "markdown",
   "metadata": {},
   "source": [
    "#### Latitude Vs. Humidity"
   ]
  },
  {
   "cell_type": "code",
   "execution_count": 50,
   "metadata": {},
   "outputs": [
    {
     "data": {
      "image/png": "[encoded data removed]",
      "text/plain": [
       "<Figure size 640x480 with 1 Axes>"
      ]
     },
     "metadata": {},
     "output_type": "display_data"
    }
   ],
   "source": [
    "# Build scatter plot for latitude vs. Humidity\n",
    "plt.scatter(lats,\n",
    "            humidity,\n",
    "           edgecolor=\"black\", linewidth=1, marker=\"o\",\n",
    "           alpha=0.8, label=\"Cities\")\n",
    "\n",
    "\n",
    "# Incorporate the other graph properties\n",
    "plt.title(\"City Latitude Vs. Humidity(%s)\" % time.strftime(\"%x\"))\n",
    "plt.ylabel(\"Humidity (%)\")\n",
    "plt.xlabel(\"Latitude\")\n",
    "plt.grid(True)\n",
    "\n",
    "\n",
    "# Save figure\n",
    "plt.savefig(\"output_data/Fig2.png\")\n",
    "\n",
    "# Show plot\n",
    "plt.show()\n"
   ]
  },
  {
   "cell_type": "markdown",
   "metadata": {},
   "source": [
    "#### Latitude Vs. Cloudiness"
   ]
  },
  {
   "cell_type": "code",
   "execution_count": 72,
   "metadata": {},
   "outputs": [
    {
     "name": "stdout",
     "output_type": "stream",
     "text": [
      "1500 3\n",
      "Error: The lengths of lats and cloudiness do not match.\n"
     ]
    }
   ],
   "source": [
    "# Check if the arrays have the same length\n",
    "print(len(lats), len(cloudiness))\n",
    "\n",
    "# Only plot if the lengths match\n",
    "if len(lats) == len(cloudiness):\n",
    "    plt.scatter(lats, cloudiness, edgecolor=\"black\", linewidth=1, marker=\"o\",\n",
    "                alpha=0.8, label=\"Cities\")\n",
    "    \n",
    "    # Incorporate the other graph properties\n",
    "    plt.title(\"City Latitude Vs. Cloudiness(%s)\" % time.strftime(\"%x\"))\n",
    "    plt.ylabel(\"Cloudiness (%)\")\n",
    "    plt.xlabel(\"Latitude\")\n",
    "    plt.grid(True)\n",
    "    \n",
    "    # Save figure\n",
    "    plt.savefig(\"output_data/Fig3.png\")\n",
    "    \n",
    "    # Show plot\n",
    "    plt.show()\n",
    "else:\n",
    "    print(\"Error: The lengths of lats and cloudiness do not match.\")\n",
    "\n"
   ]
  },
  {
   "cell_type": "markdown",
   "metadata": {},
   "source": [
    "#### Latitude vs. Wind Speed Plot"
   ]
  },
  {
   "cell_type": "code",
   "execution_count": null,
   "metadata": {},
   "outputs": [
    {
     "data": {
      "image/png": "[encoded data removed]",
      "text/plain": [
       "<Figure size 640x480 with 1 Axes>"
      ]
     },
     "metadata": {},
     "output_type": "display_data"
    }
   ],
   "source": [
    "# Build scatter plot for latitude vs. wind speed\n",
    "plt.scatter(lats, \n",
    "            wind_speed, \n",
    "            edgecolor=\"black\", linewidth=1, marker=\"o\", \n",
    "            alpha=0.8, label=\"Cities\")\n",
    "\n",
    "# Incorporate the other graph properties\n",
    "plt.title(\"City Latitude Vs. Wind Speed (%s)\" % time.strftime(\"%x\"))\n",
    "plt.xlabel(\"Latitude\")\n",
    "plt.ylabel(\"Wind Speed (m/s)\")\n",
    "plt.grid(True)\n",
    "\n",
    "# Save the figure\n",
    "plt.savefig(\"output_data/Fig4.png\")\n",
    "\n",
    "# Show plot\n",
    "plt.show()\n"
   ]
  },
  {
   "cell_type": "markdown",
   "metadata": {},
   "source": [
    "---\n",
    "\n",
    "## Requirement 2: Compute Linear Regression for Each Relationship\n"
   ]
  },
  {
   "cell_type": "code",
   "execution_count": 74,
   "metadata": {},
   "outputs": [],
   "source": [
    "import numpy as np\n",
    "import matplotlib.pyplot as plt\n",
    "from sklearn.linear_model import LinearRegression\n",
    "\n",
    "def create_linear_regression_plot(x, y, x_label, y_label, title, save_path=None):\n",
    "    \"\"\"\n",
    "    Creates a linear regression plot.\n",
    "\n",
    "    Parameters:\n",
    "    - x: The independent variable (array-like)\n",
    "    - y: The dependent variable (array-like)\n",
    "    - x_label: Label for the x-axis\n",
    "    - y_label: Label for the y-axis\n",
    "    - title: Title of the plot\n",
    "    - save_path: Optional file path to save the plot (if None, the plot is not saved)\n",
    "\n",
    "    Returns:\n",
    "    - None\n",
    "    \"\"\"\n",
    "    \n",
    "    # Reshape x to be a 2D array as required by scikit-learn\n",
    "    x_reshaped = x.reshape(-1, 1)\n",
    "    \n",
    "    # Create a linear regression model\n",
    "    model = LinearRegression()\n",
    "    \n",
    "    # Fit the model\n",
    "    model.fit(x_reshaped, y)\n",
    "    \n",
    "    # Predict the y values using the model\n",
    "    y_pred = model.predict(x_reshaped)\n",
    "    \n",
    "    # Plotting the scatter plot and the regression line\n",
    "    plt.scatter(x, y, color='blue', label='Data Points', edgecolor='black', alpha=0.7)\n",
    " \n"
   ]
  },
  {
   "cell_type": "code",
   "execution_count": 75,
   "metadata": {},
   "outputs": [
    {
     "name": "stdout",
     "output_type": "stream",
     "text": [
      "Index(['City', 'Lat', 'Lng', 'Max Temp', 'Humidity', 'Cloudiness', 'Windspeed',\n",
      "       'Country', 'Date'],\n",
      "      dtype='object')\n"
     ]
    }
   ],
   "source": [
    "print(city_data_df.columns)\n"
   ]
  },
  {
   "cell_type": "code",
   "execution_count": 76,
   "metadata": {},
   "outputs": [
    {
     "name": "stdout",
     "output_type": "stream",
     "text": [
      "                City      Lat       Lng  Max Temp  Humidity  Cloudiness  \\\n",
      "City_ID                                                                   \n",
      "0        Los Angeles  34.0522 -118.2437     67.21        48           0   \n",
      "1           New York  40.7143  -74.0060     55.40        56           0   \n",
      "2            Chicago  41.8500  -87.6500     63.12        45          75   \n",
      "\n",
      "         Windspeed Country        Date  \n",
      "City_ID                                 \n",
      "0            12.66      US  1741654905  \n",
      "1             8.05      US  1741655085  \n",
      "2            10.36      US  1741654965  \n"
     ]
    }
   ],
   "source": [
    "# Create a DataFrame for the Northern Hemisphere (Latitude >= 0)\n",
    "northern_hemi_df = city_data_df[city_data_df[\"Lat\"] >= 0]\n",
    "\n",
    "# Display the first few rows of the Northern Hemisphere data\n",
    "northern_hemi_df.head()\n",
    "\n",
    "# Remove leading and trailing spaces from column names (if any)\n",
    "city_data_df.columns = city_data_df.columns.str.strip()\n",
    "\n",
    "# Check for NaN values in 'Lat' and remove rows with missing latitudes\n",
    "city_data_df = city_data_df.dropna(subset=['Lat'])\n",
    "\n",
    "# Now filter the DataFrame for the Northern Hemisphere\n",
    "northern_hemi_df = city_data_df[city_data_df[\"Lat\"] >= 0]\n",
    "\n",
    "# Display the first few rows to verify the data\n",
    "print(northern_hemi_df.head())\n"
   ]
  },
  {
   "cell_type": "code",
   "execution_count": 55,
   "metadata": {},
   "outputs": [
    {
     "name": "stdout",
     "output_type": "stream",
     "text": [
      "Index([], dtype='object')\n"
     ]
    }
   ],
   "source": [
    "print(city_data_df.columns)\n"
   ]
  },
  {
   "cell_type": "code",
   "execution_count": 56,
   "metadata": {},
   "outputs": [
    {
     "name": "stdout",
     "output_type": "stream",
     "text": [
      "(0, 0)\n",
      "Empty DataFrame\n",
      "Columns: []\n",
      "Index: []\n"
     ]
    }
   ],
   "source": [
    "print(city_data_df.shape)  # Print the shape of the DataFrame\n",
    "print(city_data_df.head())  # Print the first few rows\n"
   ]
  },
  {
   "cell_type": "code",
   "execution_count": 77,
   "metadata": {},
   "outputs": [
    {
     "name": "stdout",
     "output_type": "stream",
     "text": [
      "Requesting data for Los Angeles: 200\n",
      "{'coord': {'lon': -118.2437, 'lat': 34.0522}, 'weather': [{'id': 800, 'main': 'Clear', 'description': 'clear sky', 'icon': '01d'}], 'base': 'stations', 'main': {'temp': 61.14, 'feels_like': 59.22, 'temp_min': 57.34, 'temp_max': 66.34, 'pressure': 1011, 'humidity': 48, 'sea_level': 1011, 'grnd_level': 992}, 'visibility': 10000, 'wind': {'speed': 12.66, 'deg': 260}, 'clouds': {'all': 0}, 'dt': 1741655289, 'sys': {'type': 2, 'id': 2075946, 'country': 'US', 'sunrise': 1741615789, 'sunset': 1741658202}, 'timezone': -25200, 'id': 5368361, 'name': 'Los Angeles', 'cod': 200}\n",
      "Requesting data for New York: 200\n",
      "{'coord': {'lon': -74.006, 'lat': 40.7143}, 'weather': [{'id': 800, 'main': 'Clear', 'description': 'clear sky', 'icon': '01n'}], 'base': 'stations', 'main': {'temp': 52.7, 'feels_like': 50.31, 'temp_min': 48.27, 'temp_max': 55.4, 'pressure': 1011, 'humidity': 56, 'sea_level': 1011, 'grnd_level': 1009}, 'visibility': 10000, 'wind': {'speed': 8.05, 'deg': 150}, 'clouds': {'all': 0}, 'dt': 1741655411, 'sys': {'type': 1, 'id': 4610, 'country': 'US', 'sunrise': 1741605335, 'sunset': 1741647426}, 'timezone': -14400, 'id': 5128581, 'name': 'New York', 'cod': 200}\n",
      "Requesting data for Chicago: 200\n",
      "{'coord': {'lon': -87.65, 'lat': 41.85}, 'weather': [{'id': 803, 'main': 'Clouds', 'description': 'broken clouds', 'icon': '04n'}], 'base': 'stations', 'main': {'temp': 62.22, 'feels_like': 60.21, 'temp_min': 60.19, 'temp_max': 63.12, 'pressure': 1003, 'humidity': 44, 'sea_level': 1003, 'grnd_level': 982}, 'visibility': 10000, 'wind': {'speed': 10.36, 'deg': 200}, 'clouds': {'all': 75}, 'dt': 1741655295, 'sys': {'type': 2, 'id': 2005153, 'country': 'US', 'sunrise': 1741608634, 'sunset': 1741650674}, 'timezone': -18000, 'id': 4887398, 'name': 'Chicago', 'cod': 200}\n"
     ]
    }
   ],
   "source": [
    "# Example of checking the API response\n",
    "for city in cities:\n",
    "    city_url = url + \"&q=\" + city\n",
    "    response = requests.get(city_url)\n",
    "    print(f\"Requesting data for {city}: {response.status_code}\")\n",
    "    if response.status_code == 200:\n",
    "        city_weather = response.json()\n",
    "        print(city_weather)  # Print the JSON response to verify the data\n",
    "    else:\n",
    "        print(f\"Failed to retrieve data for {city}\")\n"
   ]
  },
  {
   "cell_type": "code",
   "execution_count": 78,
   "metadata": {},
   "outputs": [
    {
     "data": {
      "text/html": [
       "<div>\n",
       "<style scoped>\n",
       "    .dataframe tbody tr th:only-of-type {\n",
       "        vertical-align: middle;\n",
       "    }\n",
       "\n",
       "    .dataframe tbody tr th {\n",
       "        vertical-align: top;\n",
       "    }\n",
       "\n",
       "    .dataframe thead th {\n",
       "        text-align: right;\n",
       "    }\n",
       "</style>\n",
       "<table border=\"1\" class=\"dataframe\">\n",
       "  <thead>\n",
       "    <tr style=\"text-align: right;\">\n",
       "      <th></th>\n",
       "      <th>City</th>\n",
       "      <th>Lat</th>\n",
       "      <th>Lng</th>\n",
       "      <th>Max Temp</th>\n",
       "      <th>Humidity</th>\n",
       "      <th>Cloudiness</th>\n",
       "      <th>Windspeed</th>\n",
       "      <th>Country</th>\n",
       "      <th>Date</th>\n",
       "    </tr>\n",
       "    <tr>\n",
       "      <th>City_ID</th>\n",
       "      <th></th>\n",
       "      <th></th>\n",
       "      <th></th>\n",
       "      <th></th>\n",
       "      <th></th>\n",
       "      <th></th>\n",
       "      <th></th>\n",
       "      <th></th>\n",
       "      <th></th>\n",
       "    </tr>\n",
       "  </thead>\n",
       "  <tbody>\n",
       "  </tbody>\n",
       "</table>\n",
       "</div>"
      ],
      "text/plain": [
       "Empty DataFrame\n",
       "Columns: [City, Lat, Lng, Max Temp, Humidity, Cloudiness, Windspeed, Country, Date]\n",
       "Index: []"
      ]
     },
     "execution_count": 78,
     "metadata": {},
     "output_type": "execute_result"
    }
   ],
   "source": [
    "# Create a DataFrame with the Southern Hemisphere data (Latitude < 0)\n",
    "southern_hemi_df = city_data_df[city_data_df[\"Lat\"] < 0]\n",
    "\n",
    "# Display sample data\n",
    "southern_hemi_df.head()"
   ]
  },
  {
   "cell_type": "markdown",
   "metadata": {},
   "source": [
    "###  Temperature vs. Latitude Linear Regression Plot"
   ]
  },
  {
   "cell_type": "code",
   "execution_count": 79,
   "metadata": {},
   "outputs": [
    {
     "name": "stdout",
     "output_type": "stream",
     "text": [
      "The r^2-value is: 0.45104051674280043\n"
     ]
    }
   ],
   "source": [
    "# Linear regression on Northern Hemisphere\n",
    "\n",
    "# Extract the Northern Hemisphere data (Latitude >= 0)\n",
    "northern_hemi_df = city_data_df[city_data_df[\"Lat\"] >= 0]\n",
    "\n",
    "# Extract the 'Lat' and 'Max Temp' columns for regression\n",
    "x = northern_hemi_df[\"Lat\"].values.reshape(-1, 1)  # Independent variable (Latitude)\n",
    "y = northern_hemi_df[\"Max Temp\"].values  # Dependent variable (Max Temp)\n",
    "\n",
    "# Create a linear regression model\n",
    "model = LinearRegression()\n",
    "\n",
    "# Fit the model\n",
    "model.fit(x, y)\n",
    "\n",
    "# Make predictions\n",
    "y_pred = model.predict(x)\n",
    "\n",
    "# Calculate the R^2 value\n",
    "r_squared = model.score(x, y)\n",
    "\n",
    "# Output the R^2 value\n",
    "print(f\"The r^2-value is: {r_squared}\")\n"
   ]
  },
  {
   "cell_type": "code",
   "execution_count": 85,
   "metadata": {},
   "outputs": [
    {
     "name": "stdout",
     "output_type": "stream",
     "text": [
      "(3, 9)\n"
     ]
    }
   ],
   "source": [
    "print(city_data_df.shape)  # Check the number of rows and columns\n"
   ]
  },
  {
   "cell_type": "code",
   "execution_count": 86,
   "metadata": {},
   "outputs": [
    {
     "name": "stdout",
     "output_type": "stream",
     "text": [
      "34.0522\n"
     ]
    }
   ],
   "source": [
    "print(city_data_df[\"Lat\"].min())  # Check the smallest latitude value\n"
   ]
  },
  {
   "cell_type": "markdown",
   "metadata": {},
   "source": [
    "**Discussion about the linear relationship:** YOUR RESPONSE HERE"
   ]
  },
  {
   "cell_type": "markdown",
   "metadata": {},
   "source": [
    "### Humidity vs. Latitude Linear Regression Plot"
   ]
  },
  {
   "cell_type": "code",
   "execution_count": 88,
   "metadata": {},
   "outputs": [
    {
     "name": "stdout",
     "output_type": "stream",
     "text": [
      "The r^2-value is: 0.45104051674280043\n"
     ]
    }
   ],
   "source": [
    "# Northern Hemisphere\n",
    "\n",
    "# Extract the Northern Hemisphere data (Latitude >= 0)\n",
    "northern_hemi_df = city_data_df[city_data_df[\"Lat\"] >= 0]\n",
    "\n",
    "# Extract 'Lat' and 'Max Temp' columns for regression\n",
    "x_northern = northern_hemi_df[\"Lat\"].values.reshape(-1, 1)  # Independent variable (Latitude)\n",
    "y_northern = northern_hemi_df[\"Max Temp\"].values  # Dependent variable (Max Temp)\n",
    "\n",
    "# Create a linear regression model\n",
    "model_northern = LinearRegression()\n",
    "\n",
    "# Fit the model to the data\n",
    "model_northern.fit(x_northern, y_northern)\n",
    "\n",
    "# Make predictions\n",
    "y_pred_northern = model_northern.predict(x_northern)\n",
    "\n",
    "# Calculate the R^2 value\n",
    "r_squared_northern = model_northern.score(x_northern, y_northern)\n",
    "\n",
    "# Output the R^2 value\n",
    "print(f\"The r^2-value is: {r_squared_northern}\")\n"
   ]
  },
  {
   "cell_type": "markdown",
   "metadata": {},
   "source": [
    "**Discussion about the linear relationship:** YOUR RESPONSE HERE"
   ]
  },
  {
   "cell_type": "markdown",
   "metadata": {},
   "source": [
    "### Cloudiness vs. Latitude Linear Regression Plot"
   ]
  },
  {
   "cell_type": "code",
   "execution_count": 90,
   "metadata": {},
   "outputs": [
    {
     "name": "stdout",
     "output_type": "stream",
     "text": [
      "The r^2-value is: 0.45104051674280043\n"
     ]
    }
   ],
   "source": [
    "# Northern Hemisphere\n",
    "\n",
    "# Extract the Northern Hemisphere data (Latitude >= 0)\n",
    "northern_hemi_df = city_data_df[city_data_df[\"Lat\"] >= 0]\n",
    "\n",
    "# Extract 'Lat' and 'Max Temp' columns for regression\n",
    "x_northern = northern_hemi_df[\"Lat\"].values.reshape(-1, 1)  # Independent variable (Latitude)\n",
    "y_northern = northern_hemi_df[\"Max Temp\"].values  # Dependent variable (Max Temp)\n",
    "\n",
    "# Create a linear regression model\n",
    "model_northern = LinearRegression()\n",
    "\n",
    "# Fit the model to the data\n",
    "model_northern.fit(x_northern, y_northern)\n",
    "\n",
    "# Make predictions\n",
    "y_pred_northern = model_northern.predict(x_northern)\n",
    "\n",
    "# Calculate the R^2 value\n",
    "r_squared_northern = model_northern.score(x_northern, y_northern)\n",
    "\n",
    "# Output the R^2 value\n",
    "print(f\"The r^2-value is: {r_squared_northern}\")\n"
   ]
  },
  {
   "cell_type": "markdown",
   "metadata": {},
   "source": [
    "**Discussion about the linear relationship:** YOUR RESPONSE HERE"
   ]
  },
  {
   "cell_type": "markdown",
   "metadata": {},
   "source": [
    "### Wind Speed vs. Latitude Linear Regression Plot"
   ]
  },
  {
   "cell_type": "code",
   "execution_count": 92,
   "metadata": {},
   "outputs": [
    {
     "name": "stdout",
     "output_type": "stream",
     "text": [
      "The r^2-value is: 0.45104051674280043\n"
     ]
    }
   ],
   "source": [
    "# Northern Hemisphere\n",
    "\n",
    "# Extract the Northern Hemisphere data (Latitude >= 0)\n",
    "northern_hemi_df = city_data_df[city_data_df[\"Lat\"] >= 0]\n",
    "\n",
    "# Ensure there are data points\n",
    "if northern_hemi_df.empty:\n",
    "    print(\"No Northern Hemisphere data available.\")\n",
    "else:\n",
    "    # Extract 'Lat' and 'Max Temp' columns for regression\n",
    "    x_northern = northern_hemi_df[\"Lat\"].values.reshape(-1, 1)  # Independent variable (Latitude)\n",
    "    y_northern = northern_hemi_df[\"Max Temp\"].values  # Dependent variable (Max Temp)\n",
    "\n",
    "  \n",
    "    # Create a linear regression model\n",
    "    model_northern = LinearRegression()\n",
    "\n",
    "    # Fit the model to the data\n",
    "    model_northern.fit(x_northern, y_northern)\n",
    "\n",
    "    # Calculate the R^2 value\n",
    "    r_squared_northern = model_northern.score(x_northern, y_northern)\n",
    "\n",
    "    # Output the R^2 value\n",
    "    print(f\"The r^2-value is: {r_squared_northern}\")"
   ]
  },
  {
   "cell_type": "markdown",
   "metadata": {},
   "source": [
    "**Discussion about the linear relationship:** YOUR RESPONSE HERE"
   ]
  },
  {
   "cell_type": "code",
   "execution_count": null,
   "metadata": {},
   "outputs": [],
   "source": [
    "#In this analysis, we examined the relationship between latitude and maximum temperature using linear regression. The goal\n",
    " #was to determine whether latitude is a strong predictor of maximum temperature in both the Northern Hemisphere\n",
    "#  and Southern Hemisphere."
   ]
  }
 ],
 "metadata": {
  "anaconda-cloud": {},
  "kernel_info": {
   "name": "python3"
  },
  "kernelspec": {
   "display_name": "base",
   "language": "python",
   "name": "python3"
  },
  "language_info": {
   "codemirror_mode": {
    "name": "ipython",
    "version": 3
   },
   "file_extension": ".py",
   "mimetype": "text/x-python",
   "name": "python",
   "nbconvert_exporter": "python",
   "pygments_lexer": "ipython3",
   "version": "3.12.4"
  },
  "latex_envs": {
   "LaTeX_envs_menu_present": true,
   "autoclose": false,
   "autocomplete": true,
   "bibliofile": "biblio.bib",
   "cite_by": "apalike",
   "current_citInitial": 1,
   "eqLabelWithNumbers": true,
   "eqNumInitial": 1,
   "hotkeys": {
    "equation": "Ctrl-E",
    "itemize": "Ctrl-I"
   },
   "labels_anchors": false,
   "latex_user_defs": false,
   "report_style_numbering": false,
   "user_envs_cfg": false
  },
  "nteract": {
   "version": "0.12.3"
  }
 },
 "nbformat": 4,
 "nbformat_minor": 4
}
